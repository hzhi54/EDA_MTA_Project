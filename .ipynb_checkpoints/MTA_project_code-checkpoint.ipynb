{
 "cells": [
  {
   "cell_type": "markdown",
   "id": "73833832",
   "metadata": {},
   "source": [
    "## Packages"
   ]
  },
  {
   "cell_type": "code",
   "execution_count": 1,
   "id": "8d39a29a",
   "metadata": {},
   "outputs": [],
   "source": [
    "import numpy as np\n",
    "import pandas as pd\n",
    "import seaborn as sns\n",
    "import sqlalchemy"
   ]
  },
  {
   "cell_type": "markdown",
   "id": "c7059ffa",
   "metadata": {},
   "source": [
    "## Data Preparation"
   ]
  },
  {
   "cell_type": "code",
   "execution_count": 33,
   "id": "682d6187",
   "metadata": {},
   "outputs": [
    {
     "data": {
      "text/html": [
       "<div>\n",
       "<style scoped>\n",
       "    .dataframe tbody tr th:only-of-type {\n",
       "        vertical-align: middle;\n",
       "    }\n",
       "\n",
       "    .dataframe tbody tr th {\n",
       "        vertical-align: top;\n",
       "    }\n",
       "\n",
       "    .dataframe thead th {\n",
       "        text-align: right;\n",
       "    }\n",
       "</style>\n",
       "<table border=\"1\" class=\"dataframe\">\n",
       "  <thead>\n",
       "    <tr style=\"text-align: right;\">\n",
       "      <th></th>\n",
       "      <th>C/A</th>\n",
       "      <th>UNIT</th>\n",
       "      <th>SCP</th>\n",
       "      <th>STATION</th>\n",
       "      <th>LINENAME</th>\n",
       "      <th>DIVISION</th>\n",
       "      <th>DATE</th>\n",
       "      <th>TIME</th>\n",
       "      <th>DESC</th>\n",
       "      <th>ENTRIES</th>\n",
       "      <th>EXITS</th>\n",
       "    </tr>\n",
       "  </thead>\n",
       "  <tbody>\n",
       "    <tr>\n",
       "      <th>0</th>\n",
       "      <td>A002</td>\n",
       "      <td>R051</td>\n",
       "      <td>02-00-00</td>\n",
       "      <td>59 ST</td>\n",
       "      <td>NQR456W</td>\n",
       "      <td>BMT</td>\n",
       "      <td>08/28/2021</td>\n",
       "      <td>00:00:00</td>\n",
       "      <td>REGULAR</td>\n",
       "      <td>7625998</td>\n",
       "      <td>2609113</td>\n",
       "    </tr>\n",
       "    <tr>\n",
       "      <th>1</th>\n",
       "      <td>A002</td>\n",
       "      <td>R051</td>\n",
       "      <td>02-00-00</td>\n",
       "      <td>59 ST</td>\n",
       "      <td>NQR456W</td>\n",
       "      <td>BMT</td>\n",
       "      <td>08/28/2021</td>\n",
       "      <td>04:00:00</td>\n",
       "      <td>REGULAR</td>\n",
       "      <td>7626014</td>\n",
       "      <td>2609117</td>\n",
       "    </tr>\n",
       "    <tr>\n",
       "      <th>2</th>\n",
       "      <td>A002</td>\n",
       "      <td>R051</td>\n",
       "      <td>02-00-00</td>\n",
       "      <td>59 ST</td>\n",
       "      <td>NQR456W</td>\n",
       "      <td>BMT</td>\n",
       "      <td>08/28/2021</td>\n",
       "      <td>08:00:00</td>\n",
       "      <td>REGULAR</td>\n",
       "      <td>7626024</td>\n",
       "      <td>2609135</td>\n",
       "    </tr>\n",
       "    <tr>\n",
       "      <th>3</th>\n",
       "      <td>A002</td>\n",
       "      <td>R051</td>\n",
       "      <td>02-00-00</td>\n",
       "      <td>59 ST</td>\n",
       "      <td>NQR456W</td>\n",
       "      <td>BMT</td>\n",
       "      <td>08/28/2021</td>\n",
       "      <td>12:00:00</td>\n",
       "      <td>REGULAR</td>\n",
       "      <td>7626086</td>\n",
       "      <td>2609191</td>\n",
       "    </tr>\n",
       "    <tr>\n",
       "      <th>4</th>\n",
       "      <td>A002</td>\n",
       "      <td>R051</td>\n",
       "      <td>02-00-00</td>\n",
       "      <td>59 ST</td>\n",
       "      <td>NQR456W</td>\n",
       "      <td>BMT</td>\n",
       "      <td>08/28/2021</td>\n",
       "      <td>16:00:00</td>\n",
       "      <td>REGULAR</td>\n",
       "      <td>7626206</td>\n",
       "      <td>2609221</td>\n",
       "    </tr>\n",
       "  </tbody>\n",
       "</table>\n",
       "</div>"
      ],
      "text/plain": [
       "    C/A  UNIT       SCP STATION LINENAME DIVISION        DATE      TIME  \\\n",
       "0  A002  R051  02-00-00   59 ST  NQR456W      BMT  08/28/2021  00:00:00   \n",
       "1  A002  R051  02-00-00   59 ST  NQR456W      BMT  08/28/2021  04:00:00   \n",
       "2  A002  R051  02-00-00   59 ST  NQR456W      BMT  08/28/2021  08:00:00   \n",
       "3  A002  R051  02-00-00   59 ST  NQR456W      BMT  08/28/2021  12:00:00   \n",
       "4  A002  R051  02-00-00   59 ST  NQR456W      BMT  08/28/2021  16:00:00   \n",
       "\n",
       "      DESC  ENTRIES    EXITS  \n",
       "0  REGULAR  7625998  2609113  \n",
       "1  REGULAR  7626014  2609117  \n",
       "2  REGULAR  7626024  2609135  \n",
       "3  REGULAR  7626086  2609191  \n",
       "4  REGULAR  7626206  2609221  "
      ]
     },
     "execution_count": 33,
     "metadata": {},
     "output_type": "execute_result"
    }
   ],
   "source": [
    "engine = sqlalchemy.create_engine(\"sqlite:///data/mta_data_all.db\")\n",
    "mta_table = engine.table_names()[0]\n",
    "mta_df = pd.read_sql('SELECT * FROM '+mta_table+' LIMIT 5', engine)\n",
    "mta_df"
   ]
  },
  {
   "cell_type": "markdown",
   "id": "3c0dff35",
   "metadata": {},
   "source": [
    "### MTA Data Base on Year\n",
    "Query data yearly from 2018-2021 and compare them with each other."
   ]
  },
  {
   "cell_type": "markdown",
   "id": "52298a56",
   "metadata": {},
   "source": [
    "#### MTA Data 2018"
   ]
  },
  {
   "cell_type": "code",
   "execution_count": 20,
   "id": "9dd330b8",
   "metadata": {
    "scrolled": true
   },
   "outputs": [
    {
     "data": {
      "text/html": [
       "<div>\n",
       "<style scoped>\n",
       "    .dataframe tbody tr th:only-of-type {\n",
       "        vertical-align: middle;\n",
       "    }\n",
       "\n",
       "    .dataframe tbody tr th {\n",
       "        vertical-align: top;\n",
       "    }\n",
       "\n",
       "    .dataframe thead th {\n",
       "        text-align: right;\n",
       "    }\n",
       "</style>\n",
       "<table border=\"1\" class=\"dataframe\">\n",
       "  <thead>\n",
       "    <tr style=\"text-align: right;\">\n",
       "      <th></th>\n",
       "      <th>STATION</th>\n",
       "      <th>DATE</th>\n",
       "      <th>TIME</th>\n",
       "      <th>ENTRIES</th>\n",
       "    </tr>\n",
       "  </thead>\n",
       "  <tbody>\n",
       "    <tr>\n",
       "      <th>0</th>\n",
       "      <td>59 ST</td>\n",
       "      <td>12/22/2018</td>\n",
       "      <td>03:00:00</td>\n",
       "      <td>6881995</td>\n",
       "    </tr>\n",
       "    <tr>\n",
       "      <th>1</th>\n",
       "      <td>59 ST</td>\n",
       "      <td>12/22/2018</td>\n",
       "      <td>07:00:00</td>\n",
       "      <td>6882006</td>\n",
       "    </tr>\n",
       "    <tr>\n",
       "      <th>2</th>\n",
       "      <td>59 ST</td>\n",
       "      <td>12/22/2018</td>\n",
       "      <td>11:00:00</td>\n",
       "      <td>6882062</td>\n",
       "    </tr>\n",
       "    <tr>\n",
       "      <th>3</th>\n",
       "      <td>59 ST</td>\n",
       "      <td>12/22/2018</td>\n",
       "      <td>15:00:00</td>\n",
       "      <td>6882243</td>\n",
       "    </tr>\n",
       "    <tr>\n",
       "      <th>4</th>\n",
       "      <td>59 ST</td>\n",
       "      <td>12/22/2018</td>\n",
       "      <td>19:00:00</td>\n",
       "      <td>6882590</td>\n",
       "    </tr>\n",
       "  </tbody>\n",
       "</table>\n",
       "</div>"
      ],
      "text/plain": [
       "  STATION        DATE      TIME  ENTRIES\n",
       "0   59 ST  12/22/2018  03:00:00  6881995\n",
       "1   59 ST  12/22/2018  07:00:00  6882006\n",
       "2   59 ST  12/22/2018  11:00:00  6882062\n",
       "3   59 ST  12/22/2018  15:00:00  6882243\n",
       "4   59 ST  12/22/2018  19:00:00  6882590"
      ]
     },
     "execution_count": 20,
     "metadata": {},
     "output_type": "execute_result"
    }
   ],
   "source": [
    "engine = sqlalchemy.create_engine(\"sqlite:///data/mta_data_eighteen.db\")\n",
    "mta_df = pd.read_sql('SELECT STATION, DATE, TIME, ENTRIES FROM mta_data', engine)\n",
    "mta_df.head()"
   ]
  },
  {
   "cell_type": "code",
   "execution_count": 21,
   "id": "e9d0463d",
   "metadata": {},
   "outputs": [
    {
     "name": "stdout",
     "output_type": "stream",
     "text": [
      "<class 'pandas.core.frame.DataFrame'>\n",
      "RangeIndex: 10305449 entries, 0 to 10305448\n",
      "Data columns (total 4 columns):\n",
      " #   Column   Dtype \n",
      "---  ------   ----- \n",
      " 0   STATION  object\n",
      " 1   DATE     object\n",
      " 2   TIME     object\n",
      " 3   ENTRIES  int64 \n",
      "dtypes: int64(1), object(3)\n",
      "memory usage: 314.5+ MB\n"
     ]
    }
   ],
   "source": [
    "mta_df.info()"
   ]
  },
  {
   "cell_type": "code",
   "execution_count": 22,
   "id": "fd6abf29",
   "metadata": {},
   "outputs": [],
   "source": [
    "mta_df.drop_duplicates(keep='first',inplace=True,ignore_index=True)"
   ]
  },
  {
   "cell_type": "code",
   "execution_count": 23,
   "id": "a4308c96",
   "metadata": {},
   "outputs": [
    {
     "data": {
      "text/plain": [
       "(10270575, 4)"
      ]
     },
     "execution_count": 23,
     "metadata": {},
     "output_type": "execute_result"
    }
   ],
   "source": [
    "mta_df.shape"
   ]
  },
  {
   "cell_type": "code",
   "execution_count": 24,
   "id": "d55d66fc",
   "metadata": {},
   "outputs": [
    {
     "data": {
      "text/plain": [
       "STATION              object\n",
       "DATE                 object\n",
       "TIME                 object\n",
       "ENTRIES               int64\n",
       "DATE_TIME    datetime64[ns]\n",
       "dtype: object"
      ]
     },
     "execution_count": 24,
     "metadata": {},
     "output_type": "execute_result"
    }
   ],
   "source": [
    "mta_df['DATE_TIME'] = mta_df.DATE + ' ' + mta_df.TIME\n",
    "mta_df['DATE_TIME'] = pd.to_datetime(mta_df.DATE_TIME, format = '%m/%d/%Y %H:%M:%S')\n",
    "mta_df.dtypes"
   ]
  },
  {
   "cell_type": "code",
   "execution_count": 25,
   "id": "568cbc5f",
   "metadata": {},
   "outputs": [
    {
     "name": "stdout",
     "output_type": "stream",
     "text": [
      "<class 'pandas.core.frame.DataFrame'>\n",
      "RangeIndex: 10270575 entries, 0 to 10270574\n",
      "Data columns (total 5 columns):\n",
      " #   Column     Dtype         \n",
      "---  ------     -----         \n",
      " 0   STATION    object        \n",
      " 1   DATE       object        \n",
      " 2   TIME       object        \n",
      " 3   ENTRIES    int64         \n",
      " 4   DATE_TIME  datetime64[ns]\n",
      "dtypes: datetime64[ns](1), int64(1), object(3)\n",
      "memory usage: 391.8+ MB\n"
     ]
    }
   ],
   "source": [
    "mta_df.info()"
   ]
  },
  {
   "cell_type": "markdown",
   "id": "45d668c6",
   "metadata": {},
   "source": [
    "#### MTA Data 2019"
   ]
  },
  {
   "cell_type": "code",
   "execution_count": null,
   "id": "6e58c0ce",
   "metadata": {},
   "outputs": [],
   "source": []
  },
  {
   "cell_type": "markdown",
   "id": "2cedb311",
   "metadata": {},
   "source": [
    "### MTA Data Base on Seasons\n",
    "Query data from seasons to get more significant insights from each year."
   ]
  },
  {
   "cell_type": "code",
   "execution_count": null,
   "id": "3bfe8d26",
   "metadata": {},
   "outputs": [],
   "source": []
  },
  {
   "cell_type": "markdown",
   "id": "e3a6cc4e",
   "metadata": {},
   "source": [
    "### MTA Data Base on Time\n",
    "Query data by time to have a better understanding of each subway stations population flow."
   ]
  },
  {
   "cell_type": "code",
   "execution_count": null,
   "id": "2f06b67e",
   "metadata": {},
   "outputs": [],
   "source": []
  },
  {
   "cell_type": "code",
   "execution_count": null,
   "id": "d6e9a5fc",
   "metadata": {},
   "outputs": [],
   "source": []
  }
 ],
 "metadata": {
  "kernelspec": {
   "display_name": "Python [conda env:metis] *",
   "language": "python",
   "name": "conda-env-metis-py"
  },
  "language_info": {
   "codemirror_mode": {
    "name": "ipython",
    "version": 3
   },
   "file_extension": ".py",
   "mimetype": "text/x-python",
   "name": "python",
   "nbconvert_exporter": "python",
   "pygments_lexer": "ipython3",
   "version": "3.8.10"
  }
 },
 "nbformat": 4,
 "nbformat_minor": 5
}
